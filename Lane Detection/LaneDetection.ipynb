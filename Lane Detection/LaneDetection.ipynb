{
 "cells": [
  {
   "cell_type": "code",
   "execution_count": 1,
   "id": "b47bf9c6",
   "metadata": {},
   "outputs": [],
   "source": [
    "import cv2\n",
    "import numpy as np"
   ]
  },
  {
   "cell_type": "code",
   "execution_count": 2,
   "id": "40da7b67",
   "metadata": {},
   "outputs": [],
   "source": [
    "def make_coordinates(lane_image, line_parameters):\n",
    "    slope, intercept = line_parameters\n",
    "    y1 = lane_image.shape[0]\n",
    "    y2 = int(y1*(3/5))\n",
    "    x1 = int((y1-intercept)/slope)\n",
    "    x2 = int((y2-intercept)/slope)\n",
    "    return np.array([x1,y1,x2,y2])"
   ]
  },
  {
   "cell_type": "code",
   "execution_count": 3,
   "id": "db1763cf",
   "metadata": {},
   "outputs": [],
   "source": [
    "def average_slope_intercept(lane_image, lines):\n",
    "    left_fit = []\n",
    "    right_fit = []\n",
    "    for line in lines:\n",
    "        x1, y1, x2, y2 = line.reshape(4)\n",
    "        parameters = np.polyfit((x1, x2), (y1, y2), 1)\n",
    "        slope = parameters[0]\n",
    "        intercept = parameters[1]\n",
    "        if slope < 0:\n",
    "            left_fit.append((slope, intercept))\n",
    "        elif slope > 0:\n",
    "            right_fit.append((slope, intercept))\n",
    "    if len(left_fit) > 0 and len(right_fit) > 0:\n",
    "        left_fit_average = np.average(left_fit, axis=0)\n",
    "        right_fit_average = np.average(right_fit, axis=0)\n",
    "        left_line = make_coordinates(lane_image, left_fit_average)\n",
    "        right_line = make_coordinates(lane_image, right_fit_average)\n",
    "        return np.array([left_line, right_line])\n",
    "    else:\n",
    "        return None\n"
   ]
  },
  {
   "cell_type": "code",
   "execution_count": 4,
   "id": "32a8999f",
   "metadata": {},
   "outputs": [],
   "source": [
    "def canny(lane_image):\n",
    "    gray = cv2.cvtColor(lane_image,cv2.COLOR_RGB2GRAY)\n",
    "    blur = cv2.GaussianBlur(gray,(5,5),0)\n",
    "    canny = cv2.Canny(blur,50,150)\n",
    "    return canny"
   ]
  },
  {
   "cell_type": "code",
   "execution_count": 5,
   "id": "a93adc7d",
   "metadata": {},
   "outputs": [],
   "source": [
    "def display_lines(lane_image, lines):\n",
    "    line_image = np.zeros_like(lane_image)  ##black image\n",
    "    if lines is not None:\n",
    "        for x1,y1,x2,y2 in lines:\n",
    "            cv2.line(line_image, (x1,y1), (x2,y2), (255,0,0),10) ## coordinate, colors, and thickness which is 10.\n",
    "    return line_image\n",
    "            "
   ]
  },
  {
   "cell_type": "code",
   "execution_count": 6,
   "id": "209b0a83",
   "metadata": {},
   "outputs": [],
   "source": [
    "def region_of_interest(lane_image):\n",
    "    height = lane_image.shape[0]\n",
    "    polygons = np.array([\n",
    "        [(200,height),(1100,height),(550,250)]\n",
    "    ])\n",
    "    mask = np.zeros_like(lane_image)\n",
    "    cv2.fillPoly(mask,polygons, 255) ##color white 255\n",
    "    masked_image = cv2.bitwise_and(lane_image,mask)\n",
    "    return masked_image"
   ]
  },
  {
   "cell_type": "code",
   "execution_count": 7,
   "id": "385c2b37",
   "metadata": {},
   "outputs": [],
   "source": [
    "image = cv2.imread('test_image.jpg')"
   ]
  },
  {
   "cell_type": "code",
   "execution_count": 8,
   "id": "ad1a71e2",
   "metadata": {},
   "outputs": [],
   "source": [
    "lane_image = np.copy(image)"
   ]
  },
  {
   "cell_type": "code",
   "execution_count": 9,
   "id": "9a7bf754",
   "metadata": {},
   "outputs": [],
   "source": [
    "##canny_image = canny(lane_image)\n",
    "##cropped_image = region_of_interest(canny_image)\n",
    "##lines = cv2.HoughLinesP(cropped_image,2,np.pi/180,100,np.array([]),minLineLength = 40,maxLineGap = 5)\n",
    "##averaged_lines = average_slope_intercept(lane_image, lines)\n",
    "##line_image = display_lines(lane_image,averaged_lines)\n",
    "##mix_image = cv2.addWeighted(lane_image, 0.8, line_image, 1, 1)"
   ]
  },
  {
   "cell_type": "code",
   "execution_count": 10,
   "id": "f08f769e",
   "metadata": {},
   "outputs": [],
   "source": [
    "cap = cv2.VideoCapture(\"test2.mp4\")\n",
    "while(cap.isOpened()):\n",
    "    _, frame = cap.read()\n",
    "    canny_image = canny(frame)\n",
    "    cropped_image = region_of_interest(canny_image)\n",
    "    lines = cv2.HoughLinesP(cropped_image,2,np.pi/180,100,np.array([]),minLineLength = 40,maxLineGap = 5)\n",
    "    averaged_lines = average_slope_intercept(frame, lines)\n",
    "    line_image = display_lines(frame,averaged_lines)\n",
    "    mix_image = cv2.addWeighted(frame, 0.8, line_image, 1, 1)\n",
    "    cv2.imshow('result', mix_image)\n",
    "    if cv2.waitKey(1) == ord('q'):  ## To exit the output screen window we have to press q\n",
    "        break\n",
    "    \n",
    "cap.release()   ## Closing the video file\n",
    "cv2.destroyAllWindows()   ## destroying the window that we were on"
   ]
  },
  {
   "cell_type": "code",
   "execution_count": null,
   "id": "7774c991",
   "metadata": {},
   "outputs": [],
   "source": [
    " "
   ]
  }
 ],
 "metadata": {
  "kernelspec": {
   "display_name": "Python 3 (ipykernel)",
   "language": "python",
   "name": "python3"
  },
  "language_info": {
   "codemirror_mode": {
    "name": "ipython",
    "version": 3
   },
   "file_extension": ".py",
   "mimetype": "text/x-python",
   "name": "python",
   "nbconvert_exporter": "python",
   "pygments_lexer": "ipython3",
   "version": "3.8.13"
  }
 },
 "nbformat": 4,
 "nbformat_minor": 5
}
